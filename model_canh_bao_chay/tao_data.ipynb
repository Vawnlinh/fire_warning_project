{
 "cells": [
  {
   "cell_type": "code",
   "execution_count": 2,
   "metadata": {},
   "outputs": [
    {
     "name": "stdout",
     "output_type": "stream",
     "text": [
      "Tạo dữ liệu thành công! File 'du_lieu_canh_bao_chay.csv' đã được lưu.\n"
     ]
    }
   ],
   "source": [
    "import pandas as pd\n",
    "import random\n",
    "\n",
    "# Danh sách đồ vật với khoảng nhiệt độ hoạt động thực tế\n",
    "do_vat = [\n",
    "    (\"Sac_dien_thoai\", 30, 100),\n",
    "    (\"May_say\", 40, 200),\n",
    "    (\"Ban_la\", 50, 250),\n",
    "]\n",
    "\n",
    "# Trạng thái hoạt động có thể ảnh hưởng đến nhiệt độ\n",
    "trang_thai_hoat_dong = [\"Dang_su_dung\", \"Khong_su_dung\", \"Che_do_cho\"]\n",
    "\n",
    "# Tạo dữ liệu mở rộng\n",
    "data = []\n",
    "for i in range(1, 3001):  # Tạo 3000 dòng dữ liệu\n",
    "    ten_do_vat, min_temp, max_temp = random.choice(do_vat)\n",
    "    \n",
    "    # Sinh nhiệt độ ngẫu nhiên trong khoảng với độ nhiễu ±5°C\n",
    "    nhiet_do = random.randint(min_temp, max_temp) + random.randint(-5, 5)\n",
    "    \n",
    "    # Sinh độ ẩm ngẫu nhiên từ 10% - 80%\n",
    "    do_am = random.randint(10, 80)\n",
    "\n",
    "    # Chọn trạng thái hoạt động ngẫu nhiên\n",
    "    trang_thai = random.choice(trang_thai_hoat_dong)\n",
    "\n",
    "    # Quy tắc cảnh báo cháy\n",
    "    if nhiet_do >= 180 or (nhiet_do >= 140 and do_am < 30 and trang_thai == \"Dang_su_dung\"):\n",
    "        canh_bao = \"Co\"\n",
    "    else:\n",
    "        canh_bao = \"Khong\"\n",
    "\n",
    "    # Thêm dữ liệu vào danh sách\n",
    "    data.append([i, ten_do_vat, nhiet_do, do_am, trang_thai, canh_bao])\n",
    "\n",
    "# Chuyển thành DataFrame và lưu file Excel\n",
    "df = pd.DataFrame(data, columns=[\"ID\", \"Ten_do_vat\", \"Nhiet_do\", \"Do_am\", \"trang_thai\", \"Canh_bao_chay\"])\n",
    "df.to_csv(\"du_lieu_canh_bao_chay.csv\", index=False)\n",
    "\n",
    "print(\"Tạo dữ liệu thành công! File 'du_lieu_canh_bao_chay.csv' đã được lưu.\")\n"
   ]
  },
  {
   "cell_type": "code",
   "execution_count": 3,
   "metadata": {},
   "outputs": [
    {
     "name": "stdout",
     "output_type": "stream",
     "text": [
      "Number of rows: 3000\n"
     ]
    }
   ],
   "source": [
    "num_rows = df.shape[0]\n",
    "print(f\"Number of rows: {num_rows}\")"
   ]
  },
  {
   "cell_type": "code",
   "execution_count": 4,
   "metadata": {},
   "outputs": [
    {
     "name": "stdout",
     "output_type": "stream",
     "text": [
      "Canh_bao_chay\n",
      "Khong    2469\n",
      "Co        531\n",
      "Name: count, dtype: int64\n"
     ]
    }
   ],
   "source": [
    "canh_bao_counts = df['Canh_bao_chay'].value_counts()\n",
    "print(canh_bao_counts)"
   ]
  },
  {
   "cell_type": "code",
   "execution_count": 5,
   "metadata": {},
   "outputs": [
    {
     "data": {
      "text/plain": [
       "array([[<Axes: title={'center': 'ID'}>,\n",
       "        <Axes: title={'center': 'Nhiet_do'}>],\n",
       "       [<Axes: title={'center': 'Do_am'}>, <Axes: >]], dtype=object)"
      ]
     },
     "execution_count": 5,
     "metadata": {},
     "output_type": "execute_result"
    },
    {
     "data": {
      "image/png": "[encoded data removed]",
      "text/plain": [
       "<Figure size 640x480 with 4 Axes>"
      ]
     },
     "metadata": {},
     "output_type": "display_data"
    }
   ],
   "source": [
    "df.hist()"
   ]
  },
  {
   "cell_type": "code",
   "execution_count": 6,
   "metadata": {},
   "outputs": [
    {
     "name": "stdout",
     "output_type": "stream",
     "text": [
      "[[112   0]\n",
      " [  0 488]]\n"
     ]
    }
   ],
   "source": [
    "from sklearn.model_selection import train_test_split\n",
    "from sklearn.tree import DecisionTreeClassifier\n",
    "from sklearn.metrics import accuracy_score\n",
    "from sklearn.metrics import confusion_matrix\n",
    "\n",
    "# Tách dữ liệu thành các biến đầu vào (X) và biến mục tiêu (y)\n",
    "X = df[[\"Ten_do_vat\", \"Nhiet_do\", \"Do_am\", \"trang_thai\"]]\n",
    "y = df['Canh_bao_chay']\n",
    "\n",
    "# Chuyển đổi biến phân loại thành số\n",
    "X = pd.get_dummies(X, columns=['Ten_do_vat', 'trang_thai'])\n",
    "\n",
    "# Chia dữ liệu thành tập huấn luyện và tập kiểm tra\n",
    "X_train, X_test, y_train, y_test = train_test_split(X, y, test_size=0.2, random_state=42)\n",
    "\n",
    "# Khởi tạo mô hình cây quyết định\n",
    "model = DecisionTreeClassifier()\n",
    "\n",
    "# Huấn luyện mô hình\n",
    "model.fit(X_train, y_train)\n",
    "\n",
    "# Dự đoán trên tập kiểm tra\n",
    "y_pred = model.predict(X_test)\n",
    "\n",
    "# In ra ma trận nhầm lẫn\n",
    "conf_matrix = confusion_matrix(y_test, y_pred)\n",
    "print(conf_matrix)\n",
    "\n"
   ]
  },
  {
   "cell_type": "code",
   "execution_count": 7,
   "metadata": {},
   "outputs": [
    {
     "name": "stdout",
     "output_type": "stream",
     "text": [
      "                     Feature  Importance\n",
      "0                   Nhiet_do    0.924943\n",
      "6    trang_thai_Dang_su_dung    0.057829\n",
      "1                      Do_am    0.017228\n",
      "2          Ten_do_vat_Ban_la    0.000000\n",
      "3         Ten_do_vat_May_say    0.000000\n",
      "4  Ten_do_vat_Sac_dien_thoai    0.000000\n",
      "5      trang_thai_Che_do_cho    0.000000\n",
      "7   trang_thai_Khong_su_dung    0.000000\n"
     ]
    }
   ],
   "source": [
    "# Lấy các biến quan trọng từ mô hình\n",
    "feature_importances = model.feature_importances_\n",
    "\n",
    "# Tạo một DataFrame để hiển thị các biến và tầm quan trọng của chúng\n",
    "feature_importances_df = pd.DataFrame({\n",
    "    'Feature': X.columns,\n",
    "    'Importance': feature_importances\n",
    "})\n",
    "\n",
    "# Sắp xếp các biến theo tầm quan trọng giảm dần\n",
    "feature_importances_df = feature_importances_df.sort_values(by='Importance', ascending=False)\n",
    "\n",
    "print(feature_importances_df)"
   ]
  },
  {
   "cell_type": "code",
   "execution_count": 8,
   "metadata": {},
   "outputs": [
    {
     "name": "stdout",
     "output_type": "stream",
     "text": [
      "Accuracy: 1.00\n",
      "Precision: 1.00\n",
      "Recall: 1.00\n",
      "F1 Score: 1.00\n"
     ]
    }
   ],
   "source": [
    "from sklearn.metrics import accuracy_score, precision_score, recall_score, f1_score\n",
    "\n",
    "# Tính toán các chỉ số đánh giá\n",
    "accuracy = accuracy_score(y_test, y_pred)\n",
    "precision = precision_score(y_test, y_pred, pos_label='Co')\n",
    "recall = recall_score(y_test, y_pred, pos_label='Co')\n",
    "f1 = f1_score(y_test, y_pred, pos_label='Co')\n",
    "\n",
    "# In ra các chỉ số đánh giá\n",
    "print(f\"Accuracy: {accuracy:.2f}\")\n",
    "print(f\"Precision: {precision:.2f}\")\n",
    "print(f\"Recall: {recall:.2f}\")\n",
    "print(f\"F1 Score: {f1:.2f}\")"
   ]
  },
  {
   "cell_type": "code",
   "execution_count": 9,
   "metadata": {},
   "outputs": [
    {
     "name": "stdout",
     "output_type": "stream",
     "text": [
      "Accuracy on test set: 1.00\n",
      "Precision on test set: 1.00\n",
      "Recall on test set: 1.00\n",
      "F1 Score on test set: 1.00\n"
     ]
    }
   ],
   "source": [
    "# Dự đoán trên tập kiểm tra\n",
    "y_pred_test = model.predict(X_test)\n",
    "\n",
    "# Tính toán các chỉ số đánh giá\n",
    "accuracy_test = accuracy_score(y_test, y_pred_test)\n",
    "precision_test = precision_score(y_test, y_pred_test, pos_label='Co')\n",
    "recall_test = recall_score(y_test, y_pred_test, pos_label='Co')\n",
    "f1_test = f1_score(y_test, y_pred_test, pos_label='Co')\n",
    "\n",
    "# In ra các chỉ số đánh giá\n",
    "print(f\"Accuracy on test set: {accuracy_test:.2f}\")\n",
    "print(f\"Precision on test set: {precision_test:.2f}\")\n",
    "print(f\"Recall on test set: {recall_test:.2f}\")\n",
    "print(f\"F1 Score on test set: {f1_test:.2f}\")"
   ]
  },
  {
   "cell_type": "code",
   "execution_count": null,
   "metadata": {},
   "outputs": [
    {
     "name": "stdout",
     "output_type": "stream",
     "text": [
      "Dự đoán cảnh báo cháy: Co\n"
     ]
    }
   ],
   "source": [
    "# Dữ liệu tự nhập\n",
    "new_data = {\n",
    "    'Nhiet_do': [150],\n",
    "    'Do_am': [20],\n",
    "    'Ten_do_vat_Ban_la': [False],\n",
    "    'Ten_do_vat_May_say': [True],\n",
    "    'Ten_do_vat_Sac_dien_thoai': [False],\n",
    "    'trang_thai_Che_do_cho': [False],\n",
    "    'trang_thai_Dang_su_dung': [True],\n",
    "    'trang_thai_Khong_su_dung': [False]\n",
    "}\n",
    "x\n",
    "# Chuyển đổi thành DataFrame\n",
    "new_df = pd.DataFrame(new_data)\n",
    "\n",
    "# Dự đoán với dữ liệu mới\n",
    "new_prediction = model.predict(new_df)\n",
    "\n",
    "print(f\"Dự đoán cảnh báo cháy: {new_prediction[0]}\")"
   ]
  }
 ],
 "metadata": {
  "kernelspec": {
   "display_name": "base",
   "language": "python",
   "name": "python3"
  },
  "language_info": {
   "codemirror_mode": {
    "name": "ipython",
    "version": 3
   },
   "file_extension": ".py",
   "mimetype": "text/x-python",
   "name": "python",
   "nbconvert_exporter": "python",
   "pygments_lexer": "ipython3",
   "version": "3.12.4"
  }
 },
 "nbformat": 4,
 "nbformat_minor": 2
}
